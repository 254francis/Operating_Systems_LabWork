{
  "nbformat": 4,
  "nbformat_minor": 0,
  "metadata": {
    "colab": {
      "provenance": [],
      "authorship_tag": "ABX9TyN9/NVzNT1daN3jC5GvXemz",
      "include_colab_link": true
    },
    "kernelspec": {
      "name": "python3",
      "display_name": "Python 3"
    },
    "language_info": {
      "name": "python"
    }
  },
  "cells": [
    {
      "cell_type": "markdown",
      "metadata": {
        "id": "view-in-github",
        "colab_type": "text"
      },
      "source": [
        "<a href=\"https://colab.research.google.com/github/254francis/Operating_Systems_LabWork/blob/main/question_4_OS_assignment.ipynb\" target=\"_parent\"><img src=\"https://colab.research.google.com/assets/colab-badge.svg\" alt=\"Open In Colab\"/></a>"
      ]
    },
    {
      "cell_type": "code",
      "execution_count": 2,
      "metadata": {
        "colab": {
          "base_uri": "https://localhost:8080/"
        },
        "id": "xteT2ftdb-Oa",
        "outputId": "bac991ed-c891-46c7-c673-2694fb7f2153"
      },
      "outputs": [
        {
          "output_type": "stream",
          "name": "stdout",
          "text": [
            "Enter the size of the process (in KB): 222\n",
            "Enter the page size (in KB): 333\n",
            "Enter the size of physical memory (in KB): 555\n",
            "\n",
            "--- Paging Simulation ---\n",
            "Process requires 1 pages.\n",
            "Physical memory has 1 frames.\n",
            "\n",
            "Page Table (Page → Frame Mapping):\n",
            "-------------------------------\n",
            " Page No. | Frame No.\n",
            "-------------------------------\n",
            "   0       |   0\n",
            "\n",
            "--- Address Translation ---\n",
            "Enter a logical address (0 - 221): 1\n",
            "Logical Address 1 → Page 0, Offset 1\n",
            "Physical Address = 1 (Frame 0)\n"
          ]
        }
      ],
      "source": [
        "\n",
        "def simulate_paging():\n",
        "    # Step 1: Take inputs\n",
        "    process_size = int(input(\"Enter the size of the process (in KB): \"))\n",
        "    page_size = int(input(\"Enter the page size (in KB): \"))\n",
        "    memory_size = int(input(\"Enter the size of physical memory (in KB): \"))\n",
        "\n",
        "    # Step 2: Calculate number of pages and frames\n",
        "    num_pages = process_size // page_size\n",
        "    if process_size % page_size != 0:\n",
        "        num_pages += 1   # extra page if not perfectly divisible\n",
        "\n",
        "    num_frames = memory_size // page_size\n",
        "\n",
        "    print(\"\\n--- Paging Simulation ---\")\n",
        "    print(f\"Process requires {num_pages} pages.\")\n",
        "    print(f\"Physical memory has {num_frames} frames.\\n\")\n",
        "\n",
        "    # Step 3: Page Table (maps process pages to memory frames)\n",
        "    page_table = {}\n",
        "\n",
        "    # Step 4: Allocate frames for each page (if enough memory)\n",
        "    for page in range(num_pages):\n",
        "        if page < num_frames:\n",
        "            page_table[page] = page  # map page i to frame i\n",
        "        else:\n",
        "            page_table[page] = -1    # -1 means page not loaded (no free frame)\n",
        "\n",
        "    # Step 5: Print Page Table\n",
        "    print(\"Page Table (Page → Frame Mapping):\")\n",
        "    print(\"-------------------------------\")\n",
        "    print(\" Page No. | Frame No.\")\n",
        "    print(\"-------------------------------\")\n",
        "    for page in range(num_pages):\n",
        "        frame = page_table[page]\n",
        "        if frame != -1:\n",
        "            print(f\"   {page:<7} |   {frame}\")\n",
        "        else:\n",
        "            print(f\"   {page:<7} |   Not in memory\")\n",
        "\n",
        "    # Step 6: Simulate Logical to Physical Address Translation\n",
        "    print(\"\\n--- Address Translation ---\")\n",
        "    logical_address = int(input(\"Enter a logical address (0 - {}): \".format(process_size-1)))\n",
        "\n",
        "    # Find page number and offset\n",
        "    page_no = logical_address // page_size\n",
        "    offset = logical_address % page_size\n",
        "\n",
        "    if page_no in page_table and page_table[page_no] != -1:\n",
        "        frame_no = page_table[page_no]\n",
        "        physical_address = frame_no * page_size + offset\n",
        "        print(f\"Logical Address {logical_address} → Page {page_no}, Offset {offset}\")\n",
        "        print(f\"Physical Address = {physical_address} (Frame {frame_no})\")\n",
        "    else:\n",
        "        print(\"Page Fault! Page not loaded into memory.\")\n",
        "\n",
        "# Run simulation\n",
        "simulate_paging()\n"
      ]
    }
  ]
}